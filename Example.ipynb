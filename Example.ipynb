{
 "cells": [
  {
   "cell_type": "code",
   "execution_count": 1,
   "id": "77b0cd6f",
   "metadata": {},
   "outputs": [],
   "source": [
    "import numpy as np"
   ]
  },
  {
   "cell_type": "markdown",
   "id": "2ff24795",
   "metadata": {},
   "source": [
    "Giả sử chúng ta có ma trận `ratings`, trong đó các phần từ thể hiện điểm số mà user đánh giá anime tương ứng"
   ]
  },
  {
   "cell_type": "code",
   "execution_count": 2,
   "id": "b86a5fec",
   "metadata": {},
   "outputs": [
    {
     "data": {
      "text/plain": [
       "array([[ 5.,  4., nan,  1., nan],\n",
       "       [nan,  4.,  4.,  2.,  2.],\n",
       "       [ 3., nan, nan,  5.,  5.],\n",
       "       [nan,  3.,  4.,  4., nan]])"
      ]
     },
     "execution_count": 2,
     "metadata": {},
     "output_type": "execute_result"
    }
   ],
   "source": [
    "ratings = np.array([[5, 4, np.nan, 1, np.nan], [np.nan, 4, 4, 2, 2],\n",
    "                    [3, np.nan, np.nan, 5, 5],[np.nan, 3, 4, 4, np.nan]])\n",
    "ratings"
   ]
  },
  {
   "cell_type": "code",
   "execution_count": 3,
   "id": "92a556e3",
   "metadata": {},
   "outputs": [],
   "source": [
    "np.set_printoptions(suppress = True)"
   ]
  },
  {
   "cell_type": "markdown",
   "id": "a6f6c38f",
   "metadata": {},
   "source": [
    "Ở đây mình chỉ tính trên 1 user thôi :v còn phần tính trên batch (nhiều user) các bạn sẽ cơ hội tự trải nghiệm. Chúng ta sẽ xây dựng một mô hình đơn giản để dự đoán các phim mà user chưa đánh gía, hay nói cách khác là các ô `NaN`. Đầu tiên, chúng ta tưởng tượng mỗi dòng là một vector ứng với một user. Sau đó, chúng ta tính toán độ tương tự giữa các vector thông qua khoảng cách. "
   ]
  },
  {
   "cell_type": "code",
   "execution_count": 4,
   "id": "8376384a",
   "metadata": {},
   "outputs": [
    {
     "data": {
      "text/plain": [
       "array([1000.        ,    1.99600798,    0.33322226,    0.49975012])"
      ]
     },
     "execution_count": 4,
     "metadata": {},
     "output_type": "execute_result"
    }
   ],
   "source": [
    "# Lấy ra user đầu tiên\n",
    "r0 = ratings[0]\n",
    "# Lấy tất cả các user trừ cho user đầu tiên để tính khoảng cách, \n",
    "# sau đó tính mean của từng dòng để thu được độ tương tự giữa các user đối với user[0]\n",
    "s = np.nanmean(np.abs(ratings - r0), axis = 1)\n",
    "s = 1/(s + 0.001)\n",
    "s"
   ]
  },
  {
   "cell_type": "code",
   "execution_count": 12,
   "id": "f05e7956",
   "metadata": {},
   "outputs": [
    {
     "name": "stdout",
     "output_type": "stream",
     "text": [
      "3d [[[0.97806824 0.07377961 0.11123067 0.95653025 0.83327877]\n",
      "  [0.44636775 0.97578755 0.36574642 0.11477824 0.32846164]\n",
      "  [0.02027894 0.34712998 0.8171015  0.62691462 0.5292967 ]\n",
      "  [0.97982345 0.40308471 0.18733656 0.89423078 0.7417312 ]]\n",
      "\n",
      " [[0.20636667 0.12704115 0.52774816 0.46252336 0.40312353]\n",
      "  [0.19552382 0.53200505 0.64403561 0.75735924 0.51665121]\n",
      "  [0.20828042 0.28636336 0.2972836  0.92786791 0.57556074]\n",
      "  [0.06705071 0.33790972 0.74493346 0.49325992 0.85639498]]\n",
      "\n",
      " [[0.77084709 0.13468825 0.59676147 0.93093366 0.13689631]\n",
      "  [0.50271967 0.42391422 0.5738828  0.72988695 0.36130573]\n",
      "  [0.5001008  0.26989441 0.75654247 0.66804606 0.70775737]\n",
      "  [0.51496587 0.7155044  0.4421402  0.08542287 0.40132129]]]\n",
      "2d [[0.09163752 0.20058761 0.37202503 0.69118558 0.83493256]\n",
      " [0.54570137 0.38107115 0.56975489 0.08376107 0.69251549]\n",
      " [0.26955049 0.00517193 0.33243179 0.39103873 0.96926602]\n",
      " [0.96554771 0.99757372 0.90300296 0.7552617  0.76370803]]\n",
      "result: [[[0.08962775 0.01479927 0.04138059 0.66113991 0.69573157]\n",
      "  [0.24358349 0.37184448 0.20838581 0.00961395 0.22746477]\n",
      "  [0.0054662  0.00179533 0.27163052 0.2451479  0.51302931]\n",
      "  [0.94606628 0.40210671 0.16916547 0.67537827 0.56646607]]\n",
      "\n",
      " [[0.01891093 0.02548288 0.19633553 0.31968947 0.33658096]\n",
      "  [0.10669761 0.20273177 0.36694244 0.06343722 0.35778897]\n",
      "  [0.05614209 0.00148105 0.09882652 0.36283229 0.55787147]\n",
      "  [0.06474066 0.33708986 0.67267712 0.37254032 0.65403572]]\n",
      "\n",
      " [[0.07063851 0.02701679 0.22201021 0.64344792 0.11429919]\n",
      "  [0.27433481 0.16154148 0.32697253 0.06113611 0.25020981]\n",
      "  [0.13480242 0.00139587 0.25149877 0.26123188 0.68600517]\n",
      "  [0.49722411 0.71376838 0.39925391 0.06451662 0.30649229]]]\n"
     ]
    }
   ],
   "source": [
    "# Lấy ra các cột mà user[0] chưa đánh giá để \n",
    "# print(np.isnan(r0).shape)\n",
    "# result = []\n",
    "\n",
    "# for i in range(ratings.shape[0]):\n",
    "#     ri = ratings[i]\n",
    "#     ai = ratings[:, np.isnan(ri)]\n",
    "#     result.append(ai)\n",
    "# print(len(result))\n",
    "# print(result[0].shape)\n",
    "# # result = np.array(result)\n",
    "# # Lọc những cột chứa NaN\n",
    "# # result = result & nan_columns[:, np.newaxis, :]\n",
    "# mask = np.isnan(ratings)\n",
    "# result = np.concatenate([ratings[:, mask[i]] for i in range(mask.shape[0])], axis=1)\n",
    "\n",
    "# # print(result.shape)\n",
    "\n",
    "\n",
    "# a = ratings[:, np.isnan(r0)]\n",
    "# a\n",
    "\n",
    "# Tạo ma trận có shape (3, 4, 5)\n",
    "matrix_3d = np.random.random((3, 4, 5))\n",
    "print('3d',matrix_3d)\n",
    "# Tạo ma trận có shape (4, 5)\n",
    "matrix_2d = np.random.random((4, 5))\n",
    "print('2d',matrix_2d)\n",
    "# Thực hiện phép nhân element-wise\n",
    "result_matrix = matrix_3d * matrix_2d\n",
    "print('result:',result_matrix)"
   ]
  },
  {
   "cell_type": "code",
   "execution_count": 6,
   "id": "bc6a9b56",
   "metadata": {},
   "outputs": [
    {
     "name": "stdout",
     "output_type": "stream",
     "text": [
      "(4, 2)\n",
      "(4, 1)\n",
      "(4, 2)\n"
     ]
    },
    {
     "data": {
      "text/plain": [
       "array([[0.        , 0.        ],\n",
       "       [0.79976019, 0.85693889],\n",
       "       [0.        , 0.14306111],\n",
       "       [0.20023981, 0.        ]])"
      ]
     },
     "execution_count": 6,
     "metadata": {},
     "output_type": "execute_result"
    }
   ],
   "source": [
    "# Tạo ma trận trọng số dựa trên độ tương tự\n",
    "w = ~np.isnan(a)*s.reshape(-1, 1)\n",
    "print(np.isnan(a).shape)\n",
    "print(s.reshape(-1, 1).shape)\n",
    "# Chuẩn hoá trọng số\n",
    "w = w/w.sum(axis = 0)\n",
    "print(w.shape)\n",
    "w"
   ]
  },
  {
   "cell_type": "code",
   "execution_count": 7,
   "id": "2446d791",
   "metadata": {},
   "outputs": [
    {
     "data": {
      "text/plain": [
       "array([4.        , 2.42918332])"
      ]
     },
     "execution_count": 7,
     "metadata": {},
     "output_type": "execute_result"
    }
   ],
   "source": [
    "# Kết quả dự đoán được\n",
    "np.nansum(a*w, axis = 0)"
   ]
  },
  {
   "cell_type": "code",
   "execution_count": null,
   "id": "21b36200",
   "metadata": {},
   "outputs": [],
   "source": []
  }
 ],
 "metadata": {
  "kernelspec": {
   "display_name": "Python 3 (ipykernel)",
   "language": "python",
   "name": "python3"
  },
  "language_info": {
   "codemirror_mode": {
    "name": "ipython",
    "version": 3
   },
   "file_extension": ".py",
   "mimetype": "text/x-python",
   "name": "python",
   "nbconvert_exporter": "python",
   "pygments_lexer": "ipython3",
   "version": "3.10.8"
  },
  "varInspector": {
   "cols": {
    "lenName": 16,
    "lenType": 16,
    "lenVar": 40
   },
   "kernels_config": {
    "python": {
     "delete_cmd_postfix": "",
     "delete_cmd_prefix": "del ",
     "library": "var_list.py",
     "varRefreshCmd": "print(var_dic_list())"
    },
    "r": {
     "delete_cmd_postfix": ") ",
     "delete_cmd_prefix": "rm(",
     "library": "var_list.r",
     "varRefreshCmd": "cat(var_dic_list()) "
    }
   },
   "types_to_exclude": [
    "module",
    "function",
    "builtin_function_or_method",
    "instance",
    "_Feature"
   ],
   "window_display": false
  }
 },
 "nbformat": 4,
 "nbformat_minor": 5
}
